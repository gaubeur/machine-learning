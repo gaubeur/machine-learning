{
  "nbformat": 4,
  "nbformat_minor": 0,
  "metadata": {
    "colab": {
      "name": "simulacao do treinamento uma rede perceptron.ipynb",
      "provenance": [],
      "collapsed_sections": [],
      "authorship_tag": "ABX9TyOG3b3oiXwr4N8iroRC2+KU",
      "include_colab_link": true
    },
    "kernelspec": {
      "name": "python3",
      "display_name": "Python 3"
    }
  },
  "cells": [
    {
      "cell_type": "markdown",
      "metadata": {
        "id": "view-in-github",
        "colab_type": "text"
      },
      "source": [
        "<a href=\"https://colab.research.google.com/github/gaubeur/machine-learning/blob/master/simulacao_do_treinamento_uma_rede_perceptron.ipynb\" target=\"_parent\"><img src=\"https://colab.research.google.com/assets/colab-badge.svg\" alt=\"Open In Colab\"/></a>"
      ]
    },
    {
      "cell_type": "markdown",
      "metadata": {
        "id": "n3YOnzB329YN",
        "colab_type": "text"
      },
      "source": [
        "#Objetivo\n",
        "Verificar se o ser vivo é quadrupede ou bipede\n",
        "quadrupede = 1 | bipede = -1\n",
        "#entrada\n",
        "cao, gato, cavalo, homem"
      ]
    },
    {
      "cell_type": "code",
      "metadata": {
        "id": "7ADGbpf4zKmA",
        "colab_type": "code",
        "colab": {}
      },
      "source": [
        "#pesos(sinapses)\n",
        "w = [0,0,0,0]"
      ],
      "execution_count": 26,
      "outputs": []
    },
    {
      "cell_type": "code",
      "metadata": {
        "id": "aGW5-wyv3xk1",
        "colab_type": "code",
        "colab": {}
      },
      "source": [
        "#entradas\n",
        "x = [[-1,-1,1,1],\n",
        "     [1,1,1,1],\n",
        "     [1,1,-1,1],\n",
        "     [-1,-1,-1,1]]"
      ],
      "execution_count": 27,
      "outputs": []
    },
    {
      "cell_type": "code",
      "metadata": {
        "id": "FkjXFf-m7vVi",
        "colab_type": "code",
        "colab": {}
      },
      "source": [
        "#resposta esperada\n",
        "t = [1,1,1,-1]"
      ],
      "execution_count": 28,
      "outputs": []
    },
    {
      "cell_type": "code",
      "metadata": {
        "id": "R5XxxRiS8W8V",
        "colab_type": "code",
        "colab": {}
      },
      "source": [
        "#bias(vies) (ajuste fino)\n",
        "b = 0"
      ],
      "execution_count": 29,
      "outputs": []
    },
    {
      "cell_type": "code",
      "metadata": {
        "id": "0Mc8X9Nk9sis",
        "colab_type": "code",
        "colab": {}
      },
      "source": [
        "#saida\n",
        "y = 0"
      ],
      "execution_count": 30,
      "outputs": []
    },
    {
      "cell_type": "code",
      "metadata": {
        "id": "LTkc_U_795eM",
        "colab_type": "code",
        "colab": {}
      },
      "source": [
        "#numero maximo de interações\n",
        "max_int = 10"
      ],
      "execution_count": 31,
      "outputs": []
    },
    {
      "cell_type": "code",
      "metadata": {
        "id": "c_xZNEpA-OdA",
        "colab_type": "code",
        "colab": {}
      },
      "source": [
        "#taxa de aprendizado\n",
        "taxa_aprendizado = 1"
      ],
      "execution_count": 9,
      "outputs": []
    },
    {
      "cell_type": "code",
      "metadata": {
        "id": "L3zjjHTb-W0h",
        "colab_type": "code",
        "colab": {}
      },
      "source": [
        "#soma\n",
        "soma = 0"
      ],
      "execution_count": 10,
      "outputs": []
    },
    {
      "cell_type": "code",
      "metadata": {
        "id": "LoXcbzkV-ftl",
        "colab_type": "code",
        "colab": {}
      },
      "source": [
        "#threshold(limite)\n",
        "threshold = 1"
      ],
      "execution_count": 11,
      "outputs": []
    },
    {
      "cell_type": "code",
      "metadata": {
        "id": "13gPpGPU_HAF",
        "colab_type": "code",
        "colab": {}
      },
      "source": [
        "#nome do animal\n",
        "animal = \"\""
      ],
      "execution_count": 12,
      "outputs": []
    },
    {
      "cell_type": "code",
      "metadata": {
        "id": "RcKGywmb_-3U",
        "colab_type": "code",
        "colab": {}
      },
      "source": [
        "#resposta = acerto ou falha\n",
        "resposta = \"\""
      ],
      "execution_count": 13,
      "outputs": []
    },
    {
      "cell_type": "code",
      "metadata": {
        "id": "do4PIV06A9x6",
        "colab_type": "code",
        "colab": {}
      },
      "source": [
        "#dicionario de dados\n",
        "d = {'-1,-1,1,1' : 'cao',\n",
        "     '1,1,1,1' : 'gato',\n",
        "     '1,1,-1,1' : 'cavalo',\n",
        "     '-1,-1,-1,1' : 'homem'\n",
        "    }"
      ],
      "execution_count": 14,
      "outputs": []
    },
    {
      "cell_type": "code",
      "metadata": {
        "id": "5Csjt3l8Cwzz",
        "colab_type": "code",
        "colab": {
          "base_uri": "https://localhost:8080/",
          "height": 34
        },
        "outputId": "bb16481e-a55a-4099-9c06-347b5dba5b83"
      },
      "source": [
        "print(d)"
      ],
      "execution_count": 15,
      "outputs": [
        {
          "output_type": "stream",
          "text": [
            "{'-1,-1,1,1': 'cao', '1,1,1,1': 'gato', '1,1,-1,1': 'cavalo', '-1,-1,-1,1': 'homem'}\n"
          ],
          "name": "stdout"
        }
      ]
    },
    {
      "cell_type": "code",
      "metadata": {
        "id": "pIp5TiPeC6R8",
        "colab_type": "code",
        "colab": {}
      },
      "source": [
        "#funcao para converter lista em string\n",
        "def listtoString(List):\n",
        "  s = str(List).strip('[]')\n",
        "  s = s.replace(' ','')\n",
        "  return s"
      ],
      "execution_count": 16,
      "outputs": []
    },
    {
      "cell_type": "code",
      "metadata": {
        "id": "8gi4hawiFYrU",
        "colab_type": "code",
        "colab": {
          "base_uri": "https://localhost:8080/",
          "height": 1000
        },
        "outputId": "db7ca1c1-f17c-4c89-b6ac-a1afc2572654"
      },
      "source": [
        "#inicio do algoritmo\n",
        "for k in range(1,max_int):\n",
        "  acertos = 0\n",
        "  print('')\n",
        "  print(\"Interação \"+str(k)+\" -----------------\")\n",
        "  print('')\n",
        "  for i in range(0,len(x)):\n",
        "    soma = 0\n",
        "\n",
        "    #pega o nome do animal no dicionario\n",
        "    if (listtoString(x[i])) in d:\n",
        "      animal = d[listtoString(x[i])]\n",
        "    else:\n",
        "      animal = \"\"\n",
        "\n",
        "    #para calcular a saida do perpectron cada entrada de x é multiplicada\n",
        "    #pelo eu peso w correspondente\n",
        "    for j in range(0,len(x[i])):\n",
        "      soma += x[i][j] * w[j]\n",
        "\n",
        "    #a saida é igual a adicao o bias com a soma anterior\n",
        "    y_in = b + soma\n",
        "\n",
        "    #a funcao da saida é determinada pela threshold\n",
        "    if y_in > threshold:\n",
        "      y = 1\n",
        "    elif y_in >= -threshold and y_in <= threshold:\n",
        "      y = 0\n",
        "    else:\n",
        "      y = -1\n",
        "\n",
        "    #atualiza os pesos caso a saida nao corresponda ao valor esperado\n",
        "    if y == t[i]:\n",
        "      acertos+= 1\n",
        "      resposta = 'acerto'\n",
        "    else:\n",
        "      for j in range(0,len(w)):\n",
        "        # peso anterior + (tx apredizado * valor esperado * valor do x no vetor)\n",
        "        w[j] = w[j] + (taxa_aprendizado * t[i] * x[i][j])\n",
        "        print('Novo Peso: '+str(j)+' '+str(w[j]))\n",
        "        b = t[i] - y\n",
        "        resposta = \"Falha Peso Atualizado: BIAS = \" + str(b)\n",
        "      \n",
        "    #imprime a resposta\n",
        "    if y == 1:\n",
        "      print(animal + ' = quadrupede = ' + resposta)\n",
        "    elif y == 0:\n",
        "      print(animal + ' = padrão não identificado = ' + resposta)\n",
        "    elif y == -1:\n",
        "      print(animal + ' = bipede = ' + resposta)\n",
        "\n",
        "    if acertos == len(x):\n",
        "      print('')\n",
        "      print('Funcionalidade aprendida com ' + str(k) + ' interações')\n",
        "      print('')\n",
        "      break;\n",
        "    print('')\n",
        "  print(\"Finalizado\")  \n",
        "\n",
        "\n",
        "\n",
        "\n",
        "\n",
        "\n",
        "    \n",
        "\n",
        "\n",
        "\n",
        "    "
      ],
      "execution_count": 25,
      "outputs": [
        {
          "output_type": "stream",
          "text": [
            "\n",
            "Interação 1 -----------------\n",
            "\n",
            "cao = quadrupede = acerto\n",
            "\n",
            "gato = quadrupede = acerto\n",
            "\n",
            "cavalo = quadrupede = acerto\n",
            "\n",
            "homem = bipede = acerto\n",
            "\n",
            "Funcionalidade aprendida com 1 interações\n",
            "\n",
            "Finalizado\n",
            "\n",
            "Interação 2 -----------------\n",
            "\n",
            "cao = quadrupede = acerto\n",
            "\n",
            "gato = quadrupede = acerto\n",
            "\n",
            "cavalo = quadrupede = acerto\n",
            "\n",
            "homem = bipede = acerto\n",
            "\n",
            "Funcionalidade aprendida com 2 interações\n",
            "\n",
            "Finalizado\n",
            "\n",
            "Interação 3 -----------------\n",
            "\n",
            "cao = quadrupede = acerto\n",
            "\n",
            "gato = quadrupede = acerto\n",
            "\n",
            "cavalo = quadrupede = acerto\n",
            "\n",
            "homem = bipede = acerto\n",
            "\n",
            "Funcionalidade aprendida com 3 interações\n",
            "\n",
            "Finalizado\n",
            "\n",
            "Interação 4 -----------------\n",
            "\n",
            "cao = quadrupede = acerto\n",
            "\n",
            "gato = quadrupede = acerto\n",
            "\n",
            "cavalo = quadrupede = acerto\n",
            "\n",
            "homem = bipede = acerto\n",
            "\n",
            "Funcionalidade aprendida com 4 interações\n",
            "\n",
            "Finalizado\n",
            "\n",
            "Interação 5 -----------------\n",
            "\n",
            "cao = quadrupede = acerto\n",
            "\n",
            "gato = quadrupede = acerto\n",
            "\n",
            "cavalo = quadrupede = acerto\n",
            "\n",
            "homem = bipede = acerto\n",
            "\n",
            "Funcionalidade aprendida com 5 interações\n",
            "\n",
            "Finalizado\n",
            "\n",
            "Interação 6 -----------------\n",
            "\n",
            "cao = quadrupede = acerto\n",
            "\n",
            "gato = quadrupede = acerto\n",
            "\n",
            "cavalo = quadrupede = acerto\n",
            "\n",
            "homem = bipede = acerto\n",
            "\n",
            "Funcionalidade aprendida com 6 interações\n",
            "\n",
            "Finalizado\n",
            "\n",
            "Interação 7 -----------------\n",
            "\n",
            "cao = quadrupede = acerto\n",
            "\n",
            "gato = quadrupede = acerto\n",
            "\n",
            "cavalo = quadrupede = acerto\n",
            "\n",
            "homem = bipede = acerto\n",
            "\n",
            "Funcionalidade aprendida com 7 interações\n",
            "\n",
            "Finalizado\n",
            "\n",
            "Interação 8 -----------------\n",
            "\n",
            "cao = quadrupede = acerto\n",
            "\n",
            "gato = quadrupede = acerto\n",
            "\n",
            "cavalo = quadrupede = acerto\n",
            "\n",
            "homem = bipede = acerto\n",
            "\n",
            "Funcionalidade aprendida com 8 interações\n",
            "\n",
            "Finalizado\n",
            "\n",
            "Interação 9 -----------------\n",
            "\n",
            "cao = quadrupede = acerto\n",
            "\n",
            "gato = quadrupede = acerto\n",
            "\n",
            "cavalo = quadrupede = acerto\n",
            "\n",
            "homem = bipede = acerto\n",
            "\n",
            "Funcionalidade aprendida com 9 interações\n",
            "\n",
            "Finalizado\n"
          ],
          "name": "stdout"
        }
      ]
    }
  ]
}